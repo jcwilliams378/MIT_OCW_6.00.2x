{
 "metadata": {
  "name": "",
  "signature": "sha256:b46c431d5b1c05f1a5baa3b8c3a01f80cb33efdc35a525b2ee4574f9aba041b3"
 },
 "nbformat": 3,
 "nbformat_minor": 0,
 "worksheets": [
  {
   "cells": [
    {
     "cell_type": "code",
     "collapsed": false,
     "input": [],
     "language": "python",
     "metadata": {},
     "outputs": []
    }
   ],
   "metadata": {}
  }
 ]
}