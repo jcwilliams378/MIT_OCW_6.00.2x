{
 "metadata": {
  "name": "",
  "signature": "sha256:fb1c8d2667ae77f09a4bbd0f31f2938eef551043d6d03bc53706c7d714a0ae0d"
 },
 "nbformat": 3,
 "nbformat_minor": 0,
 "worksheets": [
  {
   "cells": [
    {
     "cell_type": "markdown",
     "metadata": {},
     "source": [
      "Simulations attempt tp build experimental devices called a model.\n",
      "\n",
      "Simulations model approximate reality\n",
      "Model provide predictions\n",
      "\n",
      "Models are descriptive and not prescriptive\n",
      "    Deterministic vs. stochasitic \n",
      "    Deterministic models will not change on re-running and are completely defined by the model\n",
      "    Stochasitc models include randomness\n",
      "    \n",
      "    Discrete vs. continuous\n",
      "    Discrete - values of variables are enumerable (e.g. integers)\n",
      "    Continuous - they are not enumerable (e.g. real numbers)\n",
      "    \n",
      "    Static vs. Dynamic\n",
      "    \n",
      "    Systems that are not mathematically tractable (not easy to track).\n",
      "    Successive refinements -> moving from simple to more complex.\n",
      "    Possible to extract intermediate results.\n",
      "    Availabilty of comupters and big numbers. \n",
      "    \n",
      "\"All models are wrong, but some are useful\" - George Box"
     ]
    },
    {
     "cell_type": "markdown",
     "metadata": {},
     "source": [
      "Drunken walks:\n",
      "    Farmer starts in middle of a field: can walk in the x and y direction along axis per step.\n",
      "    \n",
      "Location class:\n",
      "    Two dimensions\n",
      "    No built-in assumption about directions (floats)\n",
      "    \n",
      "Field class:\n",
      "    Many drunks\n",
      "    Drunks can be at same location\n",
      "    Field is unbounded\n",
      "    \n",
      "Drunk class: Abstract class\n",
      "    Intended to be sub-classed\n",
      "    \n",
      "UsualDrunk: subclass of drunk\n",
      "    Uses random.choice to give equal probabilty to selecting the direction tuple from a list."
     ]
    },
    {
     "cell_type": "code",
     "collapsed": false,
     "input": [
      "class Location(object):\n",
      "    \n",
      "    def __init__(self, x, y):\n",
      "        \"\"\"x and y are floats\"\"\"\n",
      "        self.x = x\n",
      "        self.y = y\n",
      "        \n",
      "    def move(self, deltaX, deltaY):\n",
      "        \"\"\"deltaX and deltaY are floats\"\"\"\n",
      "        return Location(self.x + deltaX, self.y + deltaY)\n",
      "    \n",
      "    def getX(self):\n",
      "        return self.x\n",
      "    \n",
      "    def getY(self):\n",
      "        return self.y\n",
      "    \n",
      "    def distFrom(self, other):\n",
      "        ox = other.x\n",
      "        oy = other.y\n",
      "        xDist = self.x - ox\n",
      "        yDist = self.y - oy\n",
      "        return (xDist**2 + yDist**2)**0.5\n",
      "    \n",
      "    def __str__(self):\n",
      "        return '<' + str(self.x) + ', ' + str(self.y) + '>'\n",
      "\n",
      "class Field(object):\n",
      "    \n",
      "    def __init__(self):\n",
      "        self.drunks = {}\n",
      "        \n",
      "    def addDrunk(self, drunk, loc):\n",
      "        if drunk in self.drunks:\n",
      "            raise ValueError('Duplicate drunk')\n",
      "        else:\n",
      "            self.drunks[drunk] = loc\n",
      "            \n",
      "    def moveDrunk(self, drunk):\n",
      "        if not drunk in self.drunks:\n",
      "            raise ValueError('Drunk not in field')\n",
      "        xDist, yDist = drunk.takeStep()\n",
      "        currentLocation = self.drunks[drunk]\n",
      "        #use move method of Location to get new location\n",
      "        self.drunks[drunk] = currentLocation.move(xDist, yDist)\n",
      "        \n",
      "    def getLoc(self, drunk):\n",
      "        if not drunk in self.drunks:\n",
      "            raise ValueError('Drunk not in field')\n",
      "        return self.drunks[drunk]\n",
      "\n",
      "\n",
      "import random\n",
      "\n",
      "\n",
      "class Drunk(object):\n",
      "    def __init__(self, name):\n",
      "        self.name = name\n",
      "    def __str__(self):\n",
      "        return 'This drunk is named ' + self.name\n",
      "    \n",
      "class UsualDrunk(Drunk):\n",
      "    def takeStep(self):\n",
      "        stepChoices =[(0.0,1.0), (0.0,-1.0), (1.0, 0.0), (-1.0, 0.0)]\n",
      "        return random.choice(stepChoices)\n"
     ],
     "language": "python",
     "metadata": {},
     "outputs": [],
     "prompt_number": 4
    },
    {
     "cell_type": "code",
     "collapsed": false,
     "input": [
      "D1 = Drunk('Bob')\n",
      "print(D1)\n",
      "\n"
     ],
     "language": "python",
     "metadata": {},
     "outputs": [
      {
       "output_type": "stream",
       "stream": "stdout",
       "text": [
        "This drunk is named Bob\n"
       ]
      }
     ],
     "prompt_number": 6
    },
    {
     "cell_type": "markdown",
     "metadata": {},
     "source": [
      "Walk method:\n",
      "    gets current location of drunk\n",
      "    moves drunk based on num steps\n",
      "    returns distance traveled\n",
      "\n",
      "simWalks method:\n",
      "    takes number of steps and trials\n",
      "    creates a drunk, places them at origin\n",
      "    initializes overall distances travelled\n",
      "    appends list of distancs from walks over numTrials\n",
      "\n",
      "drunkTest method:\n",
      "    runs multiple trials with different number of steps to return statistics of walks based on input sensitivity\n",
      "    \n",
      "    "
     ]
    },
    {
     "cell_type": "code",
     "collapsed": false,
     "input": [
      "def walk(f, d, numSteps):\n",
      "    start = f.getLoc(d)\n",
      "    for s in range(numSteps):\n",
      "        f.moveDrunk(d)\n",
      "    return(start.distFrom(f.getLoc(d)))\n",
      "\n",
      "\n",
      "\n",
      "def simWalks(numSteps, numTrials):\n",
      "    homer = UsualDrunk('Homer')\n",
      "    origin = Location(0, 0)\n",
      "    distances = []\n",
      "    for t in range(numTrials):\n",
      "        f = Field()\n",
      "        f.addDrunk(homer, origin)\n",
      "        distances.append(walk(f, homer, numSteps))\n",
      "    return distances\n",
      "\n",
      "\n",
      "\n",
      "def drunkTest(numTrials = 20):\n",
      "    #random.seed(0)# give repeatable randomly generated numbers\n",
      "    for numSteps in [10, 100, 1000, 10000]:\n",
      "    #for numSteps in [0,1]: # test case\n",
      "        distances = simWalks(numSteps, numTrials)\n",
      "        print 'Random walk of ' + str(numSteps) + ' steps'\n",
      "        print ' Mean =', sum(distances)/len(distances)\n",
      "        print ' Max =', max(distances), 'Min =', min(distances)"
     ],
     "language": "python",
     "metadata": {},
     "outputs": [],
     "prompt_number": 23
    },
    {
     "cell_type": "code",
     "collapsed": false,
     "input": [
      "drunkTest(20)"
     ],
     "language": "python",
     "metadata": {},
     "outputs": [
      {
       "output_type": "stream",
       "stream": "stdout",
       "text": [
        "Random walk of 10 steps\n",
        " Mean = 3.18682786974\n",
        " Max = 5.83095189485 Min = 1.41421356237\n",
        "Random walk of 100 steps\n",
        " Mean = 7.64461770561\n",
        " Max = 14.0 Min = 1.41421356237\n",
        "Random walk of 1000 steps\n",
        " Mean = 35.4363216584\n",
        " Max = 79.3977329651 Min = 7.21110255093\n",
        "Random walk of 10000 steps"
       ]
      },
      {
       "output_type": "stream",
       "stream": "stdout",
       "text": [
        "\n",
        " Mean = 102.180050273\n",
        " Max = 273.034796317 Min = 5.09901951359\n"
       ]
      }
     ],
     "prompt_number": 21
    },
    {
     "cell_type": "code",
     "collapsed": false,
     "input": [
      "###Start code added in Segment 4\n",
      "\n",
      "def drunkTestP(numTrials = 50):\n",
      "    stepsTaken = [10, 100, 1000, 10000]\n",
      "    meanDistances = []\n",
      "    for numSteps in stepsTaken:\n",
      "        distances = simWalks(numSteps, numTrials)\n",
      "        meanDistances.append(sum(distances)/len(distances))\n",
      "    pylab.plot(stepsTaken, meanDistances)\n",
      "    pylab.title('Mean Distance from Origin')\n",
      "    pylab.xlabel('Steps Taken')\n",
      "    pylab.ylabel('Steps from Origin')\n",
      "    pylab.show()\n",
      "\n",
      "drunkTestP()\n",
      "\n",
      "def drunkTestP1(numTrials = 50):\n",
      "    stepsTaken = [10, 100, 1000, 10000]\n",
      "    meanDistances = []\n",
      "    squareRootOfSteps = []\n",
      "    for numSteps in stepsTaken:\n",
      "        distances = simWalks(numSteps, numTrials)\n",
      "        meanDistances.append(sum(distances)/len(distances))\n",
      "        squareRootOfSteps.append(numSteps**0.5)\n",
      "    pylab.plot(stepsTaken, meanDistances, 'b-',\n",
      "               label = 'Mean distance')\n",
      "    pylab.plot(stepsTaken, squareRootOfSteps, 'g-.',\n",
      "               label = 'Square root of steps')\n",
      "    pylab.title('Mean Distance from Origin')\n",
      "    pylab.xlabel('Steps Taken')\n",
      "    pylab.ylabel('Steps from Origin')\n",
      "    pylab.legend()\n",
      "    pylab.show()\n",
      "\n",
      "drunkTestP1()"
     ],
     "language": "python",
     "metadata": {},
     "outputs": [
      {
       "metadata": {},
       "output_type": "display_data",
       "png": "[encoded data removed]",
       "text": [
        "<matplotlib.figure.Figure at 0xba68400>"
       ]
      },
      {
       "metadata": {},
       "output_type": "display_data",
       "png": "[encoded data removed]",
       "text": [
        "<matplotlib.figure.Figure at 0x95f2c18>"
       ]
      }
     ],
     "prompt_number": 24
    },
    {
     "cell_type": "code",
     "collapsed": false,
     "input": [
      "#Look at different kinds of drunks\n",
      "\n",
      "class UsualDrunk(Drunk):\n",
      "    def takeStep(self):\n",
      "        stepChoices =\\\n",
      "            [(0.0,1.0), (0.0,-1.0), (1.0, 0.0), (-1.0, 0.0)]\n",
      "        return random.choice(stepChoices)\n",
      "\n",
      "class ColdDrunk(Drunk): # does not prefer to walk north\n",
      "    def takeStep(self):\n",
      "        stepChoices =\\\n",
      "            [(0.0,0.95), (0.0,-1.0), (1.0, 0.0), (-1.0, 0.0)]\n",
      "        return random.choice(stepChoices)\n",
      "\n",
      "class EDrunk(Drunk): #Drunk can move on a diagonal\n",
      "    def takeStep(self):\n",
      "        deltaX = random.random()\n",
      "        if random.random() < 0.5:\n",
      "            deltaX = -deltaX\n",
      "        deltaY = random.random()\n",
      "        if random.random() < 0.5:\n",
      "            deltaY = -deltaY\n",
      "        return (deltaX, deltaY)\n",
      "\n",
      "# New version of simWalks\n",
      "\n",
      "def simWalks(numSteps, numTrials, dClass):\n",
      "    homer = dClass('Homer') #short for drunk class\n",
      "    origin = Location(0, 0)\n",
      "    distances = []\n",
      "    for t in range(numTrials):\n",
      "        f = Field()\n",
      "        f.addDrunk(homer, origin)\n",
      "        distances.append(walk(f, homer, numSteps))\n",
      "    return distances\n",
      "\n",
      "\n",
      "def drunkTestP(numTrials = 50):\n",
      "    stepsTaken = [10, 100, 1000, 10000]\n",
      "    for dClass in (UsualDrunk, ColdDrunk, EDrunk):\n",
      "        meanDistances = []\n",
      "        for numSteps in stepsTaken:\n",
      "            distances = simWalks(numSteps, numTrials, dClass)\n",
      "            meanDistances.append(sum(distances)/len(distances))\n",
      "        pylab.plot(stepsTaken, meanDistances,\n",
      "                   label = dClass.__name__)\n",
      "        pylab.title('Mean Distance from Origin')\n",
      "        pylab.xlabel('Steps Taken')\n",
      "        pylab.ylabel('Steps from Origin')\n",
      "        pylab.legend(loc = 'upper left')\n",
      "    pylab.show()\n",
      "    \n",
      "drunkTestP()"
     ],
     "language": "python",
     "metadata": {},
     "outputs": [
      {
       "metadata": {},
       "output_type": "display_data",
       "png": "[encoded data removed]",
       "text": [
        "<matplotlib.figure.Figure at 0x9c90080>"
       ]
      }
     ],
     "prompt_number": 27
    },
    {
     "cell_type": "markdown",
     "metadata": {},
     "source": [
      "Takeaways:\n",
      "    Starting with abstract datatypes makes life easier (subclasses and classes)\n",
      "    subclassing is useful\n",
      "    Once structure is in place, can try different experiments\n",
      "    Plotting to get insight into trends\n",
      "    "
     ]
    },
    {
     "cell_type": "markdown",
     "metadata": {},
     "source": []
    }
   ],
   "metadata": {}
  }
 ]
}