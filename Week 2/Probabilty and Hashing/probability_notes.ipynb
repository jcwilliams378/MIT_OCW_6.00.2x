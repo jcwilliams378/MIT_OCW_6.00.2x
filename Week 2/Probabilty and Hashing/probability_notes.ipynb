{
 "metadata": {
  "name": "",
  "signature": "sha256:4bb972c5c663abc1894e9e02af308499577af837a7ab1cefd8e00282ff7e780b"
 },
 "nbformat": 3,
 "nbformat_minor": 0,
 "worksheets": [
  {
   "cells": [
    {
     "cell_type": "markdown",
     "metadata": {},
     "source": [
      "A Probabilistic World\n",
      "\n",
      "The Copenhagen Doctrine\n",
      "    The behavior of the physical world cannot be predicted\n",
      "\n",
      "Nondeterminism\n",
      "    Causal nondeterminism - not every event is caused by previous events.\n",
      "    \n",
      "    Predictive nondeterminism - Lack of knowledge about the world makes it impossible to make accurate prediciton about future states."
     ]
    },
    {
     "cell_type": "code",
     "collapsed": false,
     "input": [
      "import random\n",
      "\n",
      "def rollDie():\n",
      "    return random.choice([1,2,3,4,5,6])\n",
      "\n",
      "def rollN(n):\n",
      "    result = ''\n",
      "    for i in range(n):\n",
      "        result = result + str(rollDie())\n",
      "    return result\n",
      "\n",
      "#print rollN(5)\n",
      "\n",
      "def getTarget(goal):\n",
      "    numTries = 0\n",
      "    numRolls = len(goal)\n",
      "    while True:\n",
      "        numTries += 1\n",
      "        result = rollN(numRolls)\n",
      "        if result == goal:\n",
      "            return numTries\n",
      "\n",
      "def runSim(goal, numTrials):\n",
      "    total = 0\n",
      "    for i in range(numTrials):\n",
      "        total += getTarget(goal)\n",
      "    print 'Average number of tries =', total/float(numTrials)\n",
      "\n",
      "print 'Probabilty = ', 0.0001286\n",
      "runSim('11111', 100)\n",
      "runSim('54324', 100)\n",
      "\n",
      "def atLeastOneOne(numRolls, numTrials):\n",
      "    numSuccess = 0\n",
      "    for i in range(numTrials):\n",
      "        rolls = rollN(numRolls)\n",
      "        if '1' in rolls:\n",
      "            numSuccess += 1\n",
      "        fracSuccess = numSuccess/float(numTrials)\n",
      "    print fracSuccess\n",
      "\n",
      "atLeastOneOne(10, 1000)"
     ],
     "language": "python",
     "metadata": {},
     "outputs": [
      {
       "output_type": "stream",
       "stream": "stdout",
       "text": [
        "Probabilty =  0.0001286\n",
        "Average number of tries ="
       ]
      },
      {
       "output_type": "stream",
       "stream": "stdout",
       "text": [
        " 6636.26\n",
        "Average number of tries ="
       ]
      },
      {
       "output_type": "stream",
       "stream": "stdout",
       "text": [
        " 7790.02\n",
        "0.844\n"
       ]
      }
     ],
     "prompt_number": 4
    },
    {
     "cell_type": "code",
     "collapsed": false,
     "input": [],
     "language": "python",
     "metadata": {},
     "outputs": []
    }
   ],
   "metadata": {}
  }
 ]
}