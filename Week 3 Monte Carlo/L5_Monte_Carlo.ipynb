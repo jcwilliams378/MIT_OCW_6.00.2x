{
 "metadata": {
  "name": "",
  "signature": "sha256:1fb2c6938e89b81ad52fd4c7b98d098c6c96a26f0242eb8c3a9b04428fce20ed"
 },
 "nbformat": 3,
 "nbformat_minor": 0,
 "worksheets": [
  {
   "cells": [
    {
     "cell_type": "markdown",
     "metadata": {},
     "source": [
      "# Monte Carlo Simulation\n",
      "\n",
      "Using random number generation to predict the outcome of an unknown quantity. \n"
     ]
    },
    {
     "cell_type": "code",
     "collapsed": false,
     "input": [
      "import random\n",
      "\n",
      "def rollDie():\n",
      "    \"\"\"returns a random int between 1 and 6\"\"\"\n",
      "    return random.choice([1,2,3,4,5,6])\n",
      "\n",
      "def checkPascal(numTrials, roll):\n",
      "    yes = 0.0\n",
      "    for i in range(numTrials):\n",
      "        for j in range(24):\n",
      "            d1 = roll()\n",
      "            d2 = roll()\n",
      "            if d1 == 6 and d2 == 6:\n",
      "                yes += 1\n",
      "                break\n",
      "    print 'Probability of losing =', 1.0 - yes/numTrials\n",
      "\n",
      "checkPascal(10000, rollDie)\n",
      "\n",
      "def rollLoadedDie():\n",
      "    if random.random() < 1.0/5.5:\n",
      "        return 6\n",
      "    else:\n",
      "        return random.choice([1,2,3,4,5])\n",
      "\n",
      "checkPascal(10000, rollLoadedDie)\n",
      "\n",
      "def flip(numFlips):\n",
      "    heads = 0\n",
      "    for i in range(numFlips):\n",
      "        if random.random() < 0.5:\n",
      "            heads += 1\n",
      "    return heads/float(numFlips)\n",
      "\n",
      "for i in range(5): #number of trials\n",
      "    print flip(10)\n"
     ],
     "language": "python",
     "metadata": {},
     "outputs": [
      {
       "output_type": "stream",
       "stream": "stdout",
       "text": [
        "Probability of losing = 0.5142\n",
        "Probability of losing ="
       ]
      },
      {
       "output_type": "stream",
       "stream": "stdout",
       "text": [
        " 0.452\n",
        "0.5\n",
        "0.3\n",
        "0.5\n",
        "0.4\n",
        "0.7\n"
       ]
      }
     ],
     "prompt_number": 1
    },
    {
     "cell_type": "code",
     "collapsed": false,
     "input": [
      "#L5 PROBLEM 1\n",
      "\n",
      "def noReplacementSimulation(numTrials):\n",
      "    '''\n",
      "    Runs numTrials trials of a Monte Carlo simulation\n",
      "    of drawing 3 balls out of a bucket containing\n",
      "    3 red and 3 green balls. Balls are not replaced once\n",
      "    drawn. Returns the a decimal - the fraction of times 3 \n",
      "    balls of the same color were drawn.\n",
      "    '''\n",
      "    \n",
      "    ball_match = 0 \n",
      "    \n",
      "    for i in range(numTrials):\n",
      "        \n",
      "        balls = ['r','r','r','g','g','g']\n",
      "\n",
      "        draw1 = random.choice(balls)\n",
      "        if draw1 in balls: balls.remove(draw1)\n",
      "        \n",
      "        draw2 = random.choice(balls)\n",
      "        if draw2 in balls: balls.remove(draw2)\n",
      "        \n",
      "        draw3 = random.choice(balls)\n",
      "        if draw3 in balls: balls.remove(draw3)\n",
      "        \n",
      "        if draw1 == draw2 and draw1 == draw3:\n",
      "            ball_match += 1\n",
      "        \n",
      "    return ball_match/float(numTrials)\n",
      "\n",
      "print(noReplacementSimulation(20000))\n"
     ],
     "language": "python",
     "metadata": {},
     "outputs": [
      {
       "output_type": "stream",
       "stream": "stdout",
       "text": [
        "0.10125\n"
       ]
      }
     ],
     "prompt_number": 24
    },
    {
     "cell_type": "code",
     "collapsed": false,
     "input": [
      "# estimating pi\n",
      "\n",
      "import random, pylab\n",
      "\n",
      "#set line width\n",
      "pylab.rcParams['lines.linewidth'] = 6\n",
      "#set font size for titles \n",
      "pylab.rcParams['axes.titlesize'] = 20\n",
      "#set font size for labels on axes\n",
      "pylab.rcParams['axes.labelsize'] = 20\n",
      "#set size of numbers on x-axis\n",
      "pylab.rcParams['xtick.major.size'] = 5\n",
      "#set size of numbers on y-axis\n",
      "pylab.rcParams['ytick.major.size'] = 5\n",
      "#set font size for text\n",
      "pylab.rcParams['legend.fontsize'] = 20\n",
      "\n",
      "def stdDev(X):\n",
      "    mean = sum(X)/float(len(X))\n",
      "    tot = 0.0\n",
      "    for x in X:\n",
      "        tot += (x - mean)**2\n",
      "    return (tot/len(X))**0.5\n",
      "\n",
      "def throwNeedles(numNeedles):\n",
      "    inCircle = 0\n",
      "    for Needles in xrange(1, numNeedles + 1, 1):\n",
      "        x = random.random()\n",
      "        y = random.random()\n",
      "        if (x*x + y*y)**0.5 <= 1.0:\n",
      "            inCircle += 1\n",
      "    return 4*(inCircle/float(numNeedles))\n",
      "\n",
      "def getEst(numNeedles, numTrials):\n",
      "    estimates = []\n",
      "    for t in range(numTrials):\n",
      "        piGuess = throwNeedles(numNeedles)\n",
      "        estimates.append(piGuess)\n",
      "    sDev = stdDev(estimates)\n",
      "    curEst = sum(estimates)/len(estimates)\n",
      "    print 'Est. = ' + str(curEst) +\\\n",
      "          ', Std. dev. = ' + str(round(sDev, 6))\\\n",
      "          + ', Needles = ' + str(numNeedles)\n",
      "    return (curEst, sDev)\n",
      "\n",
      "def estPi(precision, numTrials):\n",
      "    numNeedles = 1000\n",
      "    sDev = precision\n",
      "    while sDev >= precision/2.0:\n",
      "        curEst, sDev = getEst(numNeedles, numTrials)\n",
      "        numNeedles *= 2\n",
      "    return curEst\n",
      "\n",
      "random.seed(0)\n",
      "estPi(0.005, 100)"
     ],
     "language": "python",
     "metadata": {},
     "outputs": [
      {
       "output_type": "stream",
       "stream": "stdout",
       "text": [
        "Est. = 3.14844, Std. dev. = 0.047886, Needles = 1000\n",
        "Est. = 3.13918, Std. dev. = 0.035495, Needles = 2000"
       ]
      },
      {
       "output_type": "stream",
       "stream": "stdout",
       "text": [
        "\n",
        "Est. = 3.14108, Std. dev. = 0.02713, Needles = 4000"
       ]
      },
      {
       "output_type": "stream",
       "stream": "stdout",
       "text": [
        "\n",
        "Est. = 3.141435, Std. dev. = 0.016805, Needles = 8000"
       ]
      },
      {
       "output_type": "stream",
       "stream": "stdout",
       "text": [
        "\n",
        "Est. = 3.141355, Std. dev. = 0.0137, Needles = 16000"
       ]
      },
      {
       "output_type": "stream",
       "stream": "stdout",
       "text": [
        "\n",
        "Est. = 3.14131375, Std. dev. = 0.008476, Needles = 32000"
       ]
      },
      {
       "output_type": "stream",
       "stream": "stdout",
       "text": [
        "\n",
        "Est. = 3.141171875, Std. dev. = 0.007028, Needles = 64000"
       ]
      },
      {
       "output_type": "stream",
       "stream": "stdout",
       "text": [
        "\n",
        "Est. = 3.1415896875, Std. dev. = 0.004035, Needles = 128000"
       ]
      },
      {
       "output_type": "stream",
       "stream": "stdout",
       "text": [
        "\n",
        "Est. = 3.14174140625, Std. dev. = 0.003536, Needles = 256000"
       ]
      },
      {
       "output_type": "stream",
       "stream": "stdout",
       "text": [
        "\n",
        "Est. = 3.14155671875, Std. dev. = 0.002101, Needles = 512000"
       ]
      },
      {
       "output_type": "stream",
       "stream": "stdout",
       "text": [
        "\n"
       ]
      },
      {
       "metadata": {},
       "output_type": "pyout",
       "prompt_number": 27,
       "text": [
        "3.14155671875"
       ]
      }
     ],
     "prompt_number": 27
    },
    {
     "cell_type": "markdown",
     "metadata": {},
     "source": [
      "It is not sufficient to produce a good answer. \n",
      "\n",
      "Must have confidence in:\n",
      "    1. Conceptual model is correct.\n",
      "    2. Implementation is correct.\n",
      "    3. We have enough samples to believe result."
     ]
    },
    {
     "cell_type": "code",
     "collapsed": false,
     "input": [],
     "language": "python",
     "metadata": {},
     "outputs": []
    }
   ],
   "metadata": {}
  }
 ]
}